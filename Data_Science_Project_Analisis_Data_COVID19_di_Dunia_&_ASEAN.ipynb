{
  "nbformat": 4,
  "nbformat_minor": 0,
  "metadata": {
    "colab": {
      "name": "Data Science Project: Analisis Data COVID19 di Dunia & ASEAN.ipynb",
      "provenance": [],
      "collapsed_sections": [],
      "authorship_tag": "ABX9TyNjdSR/bSoWP+AlLEgmq9uM",
      "include_colab_link": true
    },
    "kernelspec": {
      "name": "python3",
      "display_name": "Python 3"
    }
  },
  "cells": [
    {
      "cell_type": "markdown",
      "metadata": {
        "id": "view-in-github",
        "colab_type": "text"
      },
      "source": [
        "<a href=\"https://colab.research.google.com/github/fiqhrimuliandaputra/Data-Science-Project-Analisis-Data-COVID19-di-Dunia-ASEAN/blob/main/Data_Science_Project_Analisis_Data_COVID19_di_Dunia_%26_ASEAN.ipynb\" target=\"_parent\"><img src=\"https://colab.research.google.com/assets/colab-badge.svg\" alt=\"Open In Colab\"/></a>"
      ]
    },
    {
      "cell_type": "code",
      "metadata": {
        "id": "gl-GbnRy-KUX"
      },
      "source": [
        "import json\n",
        "import numpy as np\n",
        "import pandas as pd\n",
        "import requests"
      ],
      "execution_count": null,
      "outputs": []
    },
    {
      "cell_type": "code",
      "metadata": {
        "id": "oQNBa4ZD-OUE"
      },
      "source": [
        "def get_json(api_url):\n",
        "\tresponse = requests.get(api_url)\n",
        "\tif response.status_code == 200:\n",
        "\t\treturn json.loads(response.content.decode('utf-8'))\n",
        "\telse:\n",
        "\t\treturn None"
      ],
      "execution_count": null,
      "outputs": []
    },
    {
      "cell_type": "code",
      "metadata": {
        "colab": {
          "base_uri": "https://localhost:8080/"
        },
        "id": "Xw0Oa5lt-iU7",
        "outputId": "17332b2a-5b0b-4bde-e9da-f8d099a4733f"
      },
      "source": [
        "record_date = '2020-08-17'\n",
        "covid_url = 'https://covid19-api.org/api/status?date='+record_date\n",
        "df_covid_worldwide = pd.io.json.json_normalize(get_json(covid_url))\n",
        "print(df_covid_worldwide.head())"
      ],
      "execution_count": null,
      "outputs": [
        {
          "output_type": "stream",
          "text": [
            "  country          last_update    cases  deaths  recovered\n",
            "0      US  2020-08-16T23:27:50  5401167  170019    1833067\n",
            "1      BR  2020-08-16T23:27:50  3340197  107852    2655017\n",
            "2      IN  2020-08-16T23:27:50  2589682   49980    1862258\n",
            "3      RU  2020-08-16T23:27:50   920719   15653     731444\n",
            "4      ZA  2020-08-16T23:27:50   587345   11839     472377\n"
          ],
          "name": "stdout"
        },
        {
          "output_type": "stream",
          "text": [
            "/usr/local/lib/python3.6/dist-packages/ipykernel_launcher.py:3: FutureWarning: pandas.io.json.json_normalize is deprecated, use pandas.json_normalize instead\n",
            "  This is separate from the ipykernel package so we can avoid doing imports until\n"
          ],
          "name": "stderr"
        }
      ]
    },
    {
      "cell_type": "code",
      "metadata": {
        "id": "AjeU_YQsAXHo"
      },
      "source": [
        "df_covid_worldwide['last_update'] = pd.to_datetime(df_covid_worldwide['last_update'], format='%Y-%m-%d %H:%M:%S')\n",
        "df_covid_worldwide['last_update'] = df_covid_worldwide['last_update'].apply(lambda x: x.date())"
      ],
      "execution_count": null,
      "outputs": []
    },
    {
      "cell_type": "code",
      "metadata": {
        "colab": {
          "base_uri": "https://localhost:8080/"
        },
        "id": "SlcXI1ZeAe9D",
        "outputId": "6c56f342-6a30-40ce-e065-0e8d86572d36"
      },
      "source": [
        "countries_url = 'https://covid19-api.org/api/countries'\n",
        "df_countries = pd.io.json.json_normalize(get_json(countries_url))\n",
        "df_countries = df_countries.rename(columns={'alpha2': 'country'})[['name','country']]\n",
        "print(df_countries.head())"
      ],
      "execution_count": null,
      "outputs": [
        {
          "output_type": "stream",
          "text": [
            "          name country\n",
            "0  Afghanistan      AF\n",
            "1      Albania      AL\n",
            "2      Algeria      DZ\n",
            "3      Andorra      AD\n",
            "4       Angola      AO\n"
          ],
          "name": "stdout"
        },
        {
          "output_type": "stream",
          "text": [
            "/usr/local/lib/python3.6/dist-packages/ipykernel_launcher.py:2: FutureWarning: pandas.io.json.json_normalize is deprecated, use pandas.json_normalize instead\n",
            "  \n"
          ],
          "name": "stderr"
        }
      ]
    },
    {
      "cell_type": "code",
      "metadata": {
        "colab": {
          "base_uri": "https://localhost:8080/"
        },
        "id": "c8N6DRhHAnGW",
        "outputId": "30276882-3bfa-4be1-e763-61ada4bc2631"
      },
      "source": [
        "df_covid_denormalized = pd.merge(df_covid_worldwide, df_countries, on='country')\n",
        "print(df_covid_denormalized.head())"
      ],
      "execution_count": null,
      "outputs": [
        {
          "output_type": "stream",
          "text": [
            "  country last_update    cases  deaths  recovered                      name\n",
            "0      US  2020-08-16  5401167  170019    1833067  United States of America\n",
            "1      BR  2020-08-16  3340197  107852    2655017                    Brazil\n",
            "2      IN  2020-08-16  2589682   49980    1862258                     India\n",
            "3      RU  2020-08-16   920719   15653     731444        Russian Federation\n",
            "4      ZA  2020-08-16   587345   11839     472377              South Africa\n"
          ],
          "name": "stdout"
        }
      ]
    },
    {
      "cell_type": "code",
      "metadata": {
        "id": "WCJZpD4MAr02"
      },
      "source": [
        "df_covid_denormalized['fatality_ratio'] = df_covid_denormalized['deaths']/df_covid_denormalized['cases']"
      ],
      "execution_count": null,
      "outputs": []
    },
    {
      "cell_type": "code",
      "metadata": {
        "id": "HoYnsESGBIwN"
      },
      "source": [
        "df_top_20_fatality_rate = df_covid_denormalized.sort_values(by='fatality_ratio', ascending=False).head(20)"
      ],
      "execution_count": null,
      "outputs": []
    },
    {
      "cell_type": "code",
      "metadata": {
        "colab": {
          "base_uri": "https://localhost:8080/",
          "height": 578
        },
        "id": "26NrOn1rBQsS",
        "outputId": "2a146a0c-b806-44cf-dd5f-383e1160364e"
      },
      "source": [
        "import matplotlib.pyplot as plt\n",
        "import matplotlib.pyplot as plt\n",
        "plt.figure(figsize=(20, 8))\n",
        "x = df_top_20_fatality_rate['name']\n",
        "y = df_top_20_fatality_rate['fatality_ratio']\n",
        "plt.bar(x,y)\n",
        "plt.xlabel('Country Name')\n",
        "plt.ylabel('Fatality Rate')\n",
        "plt.title('Top 20 Highest Fatality Rate Countries')\n",
        "plt.xticks(rotation=90)\n",
        "plt.tight_layout()\n",
        "plt.show()"
      ],
      "execution_count": null,
      "outputs": [
        {
          "output_type": "display_data",
          "data": {
            "image/png": "[encoded data removed]",
            "text/plain": [
              "<Figure size 1440x576 with 1 Axes>"
            ]
          },
          "metadata": {
            "tags": [],
            "needs_background": "light"
          }
        }
      ]
    },
    {
      "cell_type": "code",
      "metadata": {
        "colab": {
          "base_uri": "https://localhost:8080/"
        },
        "id": "WsVMVBNnBmVU",
        "outputId": "93d19b8e-6320-4d59-d165-06a90da6fbdf"
      },
      "source": [
        "countries = ['ID','MY','SG','TH','VN']\n",
        "i = 0\n",
        "for country in countries:\n",
        "\tcovid_timeline_url = 'https://covid19-api.org/api/timeline/'+country\n",
        "\tdf_covid_timeline = pd.io.json.json_normalize(get_json(covid_timeline_url))\n",
        "\tdf_covid_timeline['last_update'] = pd.to_datetime(df_covid_timeline['last_update'], format='%Y-%m-%dT%H:%M:%S')\n",
        "\tdf_covid_timeline['last_update'] = df_covid_timeline['last_update'].apply(lambda x: x.date())\n",
        "\tif i==0:\n",
        "\t\tdf_covid_timeline_merged = df_covid_timeline\n",
        "\telse:\n",
        "\t\tdf_covid_timeline_merged = df_covid_timeline.append(df_covid_timeline_merged, ignore_index=True)\n",
        "\ti=i+1\n",
        "\n",
        "print(df_covid_timeline_merged.head())"
      ],
      "execution_count": null,
      "outputs": [
        {
          "output_type": "stream",
          "text": [
            "/usr/local/lib/python3.6/dist-packages/ipykernel_launcher.py:5: FutureWarning: pandas.io.json.json_normalize is deprecated, use pandas.json_normalize instead\n",
            "  \"\"\"\n"
          ],
          "name": "stderr"
        },
        {
          "output_type": "stream",
          "text": [
            "  country last_update  cases  deaths  recovered\n",
            "0      VN  2020-11-25   1321      35       1153\n",
            "1      VN  2020-11-24   1316      35       1153\n",
            "2      VN  2020-11-23   1312      35       1151\n",
            "3      VN  2020-11-22   1307      35       1142\n",
            "4      VN  2020-11-21   1306      35       1142\n"
          ],
          "name": "stdout"
        }
      ]
    },
    {
      "cell_type": "code",
      "metadata": {
        "id": "t5B7zZ-9BxzG"
      },
      "source": [
        "df_covid_timeline_denormalized = pd.merge(df_covid_timeline_merged , df_countries , on='country')"
      ],
      "execution_count": null,
      "outputs": []
    },
    {
      "cell_type": "code",
      "metadata": {
        "id": "gxkpX5LlB4Ry"
      },
      "source": [
        "import datetime\n",
        "df_covid_timeline_denormalized = df_covid_timeline_denormalized[(df_covid_timeline_denormalized['last_update'] >= datetime.date(2020, 3, 1))]"
      ],
      "execution_count": null,
      "outputs": []
    },
    {
      "cell_type": "code",
      "metadata": {
        "colab": {
          "base_uri": "https://localhost:8080/",
          "height": 295
        },
        "id": "5WEmfvXFCDNH",
        "outputId": "fa0eda06-f146-4f1b-9868-8b85b5c16736"
      },
      "source": [
        "import matplotlib.pyplot as plt\n",
        "plt.clf()\n",
        "countries = ['ID','MY','SG','TH','VN']\n",
        "for country in countries:\n",
        " country_data = df_covid_timeline_denormalized['country']==country\n",
        " x = df_covid_timeline_denormalized[country_data]['last_update']\n",
        " y = df_covid_timeline_denormalized[country_data]['cases']\n",
        " plt.plot(x, y, label = country)\n",
        "plt.legend()\n",
        "plt.xlabel('Record Date')\n",
        "plt.ylabel('Total Cases')\n",
        "plt.title('Asean Covid19 Cases Comparison')\n",
        "plt.show()"
      ],
      "execution_count": null,
      "outputs": [
        {
          "output_type": "display_data",
          "data": {
            "image/png": "[encoded data removed]",
            "text/plain": [
              "<Figure size 432x288 with 1 Axes>"
            ]
          },
          "metadata": {
            "tags": [],
            "needs_background": "light"
          }
        }
      ]
    }
  ]
}